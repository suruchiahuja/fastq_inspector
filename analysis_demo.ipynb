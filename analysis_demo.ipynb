import matplotlib.pyplot as plt
import seaborn as sns
import json

# Simulated data structure returned from fastq_inspector (or saved in JSON)
results = {
    "gc_contents": [49.1, 52.3, 50.0, 47.8, 53.2, 48.9],
    "qualities": [37.5, 39.1, 38.3, 36.7, 39.4, 37.9],
    "lengths": [150, 150, 150, 150, 150, 150]
}
sns.histplot(results['gc_contents'], kde=True, bins=10)
plt.title("Distribution of GC Content in Reads")
plt.xlabel("GC Content (%)")
plt.ylabel("Read Count")
plt.show()
#read quality distribution
sns.histplot(results['qualities'], kde=True, color="green")
plt.title("Distribution of Average Read Quality")
plt.xlabel("Phred Score")
plt.ylabel("Read Count")
plt.show()
#read length distribution
sns.histplot(results['lengths'], bins=5, color="orange")
plt.title("Read Length Distribution")
plt.xlabel("Read Length (bp)")
plt.ylabel("Read Count")
plt.show()
#read length histogram
sns.histplot(results['lengths'], bins=5, color="orange")
plt.title("Read Length Distribution")
plt.xlabel("Read Length (bp)")
plt.ylabel("Read Count")
plt.show()

